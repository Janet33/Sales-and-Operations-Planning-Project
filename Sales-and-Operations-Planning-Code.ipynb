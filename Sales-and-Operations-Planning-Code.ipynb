{
 "cells": [
  {
   "cell_type": "code",
   "execution_count": 1,
   "metadata": {},
   "outputs": [
    {
     "name": "stdout",
     "output_type": "stream",
     "text": [
      "Enter initial stock level: 600\n"
     ]
    }
   ],
   "source": [
    "# Ask user to enter the initial stock level, cast to integer and save as initial_stock_level\n",
    "initial_stock_level = int(input('Enter initial stock level: '))\n"
   ]
  },
  {
   "cell_type": "code",
   "execution_count": 2,
   "metadata": {},
   "outputs": [
    {
     "name": "stdout",
     "output_type": "stream",
     "text": [
      "Enter number of months to plan for: 6\n"
     ]
    }
   ],
   "source": [
    "# Ask user to enter the number of months to plan for, cast to integer and save as number_of_months\n",
    "number_of_months = int(input('Enter number of months to plan for: '))"
   ]
  },
  {
   "cell_type": "code",
   "execution_count": 3,
   "metadata": {},
   "outputs": [],
   "source": [
    "# Set an Accumulator for the dictionary,monthly sales\n",
    "monthly_sales = {}"
   ]
  },
  {
   "cell_type": "code",
   "execution_count": 4,
   "metadata": {},
   "outputs": [
    {
     "name": "stdout",
     "output_type": "stream",
     "text": [
      "Enter the estimated sales quantity for month 1: 400\n",
      "Enter the estimated sales quantity for month 2: 300\n",
      "Enter the estimated sales quantity for month 3: 250\n",
      "Enter the estimated sales quantity for month 4: 500\n",
      "Enter the estimated sales quantity for month 5: 350\n",
      "Enter the estimated sales quantity for month 6: 250\n",
      "Dictionary containing each Month and its estimated sales quantity:  {1: 400, 2: 300, 3: 250, 4: 500, 5: 350, 6: 250}\n"
     ]
    }
   ],
   "source": [
    "# For each month, ask user to enter the estimated sale quantity\n",
    "# To do this loop through the month using a range\n",
    "\n",
    "for month in range(1, number_of_months+1):  \n",
    "    estimated_sales = int(input(f'Enter the estimated sales quantity for month {month}: ')) # Ask user to enter the estimated sales for each month, cast to integer and save as estimated sales\n",
    "    monthly_sales[month] = estimated_sales  # Add the estimate to the dictionary, monthly sales\n",
    "print('Dictionary containing each Month and its estimated sales quantity: ', monthly_sales) # This will print the estimated production quantities for each month"
   ]
  },
  {
   "cell_type": "code",
   "execution_count": 5,
   "metadata": {},
   "outputs": [
    {
     "name": "stdout",
     "output_type": "stream",
     "text": [
      "The required production quantity to be achieved for Month 1 is 0\n",
      "The required production quantity to be achieved for Month 2 is 100\n",
      "The required production quantity to be achieved for Month 3 is 250\n",
      "The required production quantity to be achieved for Month 4 is 500\n",
      "The required production quantity to be achieved for Month 5 is 350\n",
      "The required production quantity to be achieved for Month 6 is 250\n"
     ]
    }
   ],
   "source": [
    "# Loop through the dictionary, monthly sales:\n",
    "for month, estimated_sales in monthly_sales.items():  #or for estimated_sales in monthly_sales.values():, while everything else stays the same\n",
    "    if initial_stock_level > estimated_sales: # Check if Initial Stock level > estimated sales\n",
    "        print(f'The required production quantity to be achieved for Month {month} is 0')\n",
    "        initial_stock_level -= estimated_sales # Reduce the stock level by the estimated sales quantity and update stock level\n",
    "    else:\n",
    "        quantity_produced = estimated_sales - initial_stock_level  #Quantity to produce for each month\n",
    "        print(f'The required production quantity to be achieved for Month {month} is {quantity_produced}')  #print production quantity for each month\n",
    "        initial_stock_level += quantity_produced - estimated_sales  #Update the stock level\n"
   ]
  }
 ],
 "metadata": {
  "kernelspec": {
   "display_name": "Python 3",
   "language": "python",
   "name": "python3"
  },
  "language_info": {
   "codemirror_mode": {
    "name": "ipython",
    "version": 3
   },
   "file_extension": ".py",
   "mimetype": "text/x-python",
   "name": "python",
   "nbconvert_exporter": "python",
   "pygments_lexer": "ipython3",
   "version": "3.8.5"
  }
 },
 "nbformat": 4,
 "nbformat_minor": 4
}
